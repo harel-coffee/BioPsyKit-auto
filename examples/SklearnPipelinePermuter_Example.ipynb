{
 "cells": [
  {
   "cell_type": "markdown",
   "metadata": {},
   "source": [
    "# Sklearn Pipeline Permuter Example"
   ]
  },
  {
   "cell_type": "markdown",
   "metadata": {},
   "source": [
    "<div class=\"alert alert-block alert-info\">\n",
    "    \n",
    "This example shows how to systematically evaluate different machine learning pipelines. \n",
    "\n",
    "This is, for instance, useful if combinations of different feature selection methods with different estimators want to be evaluated in one step.\n",
    "</div>"
   ]
  },
  {
   "cell_type": "markdown",
   "metadata": {},
   "source": [
    "## Imports and Helper Functions"
   ]
  },
  {
   "cell_type": "code",
   "execution_count": null,
   "metadata": {},
   "outputs": [],
   "source": [
    "import pandas as pd\n",
    "import numpy as np\n",
    "\n",
    "# Utils\n",
    "from sklearn.datasets import load_breast_cancer, load_diabetes\n",
    "\n",
    "# Preprocessing & Feature Selection\n",
    "from sklearn.feature_selection import SelectKBest, RFE\n",
    "from sklearn.preprocessing import MinMaxScaler, StandardScaler\n",
    "\n",
    "# Classification\n",
    "from sklearn.neighbors import KNeighborsClassifier\n",
    "from sklearn.svm import SVC\n",
    "from sklearn.tree import DecisionTreeClassifier\n",
    "from sklearn.ensemble import AdaBoostClassifier\n",
    "\n",
    "# Regression\n",
    "from sklearn.neighbors import KNeighborsRegressor\n",
    "from sklearn.svm import SVR\n",
    "from sklearn.tree import DecisionTreeRegressor\n",
    "from sklearn.ensemble import AdaBoostRegressor\n",
    "\n",
    "\n",
    "# Cross-Validation\n",
    "from sklearn.model_selection import KFold\n",
    "\n",
    "from biopsykit.classification.model_selection import SklearnPipelinePermuter\n",
    "\n",
    "%load_ext autoreload\n",
    "%autoreload 2"
   ]
  },
  {
   "cell_type": "markdown",
   "metadata": {},
   "source": [
    "## Classification"
   ]
  },
  {
   "cell_type": "markdown",
   "metadata": {},
   "source": [
    "### Load Example Dataset"
   ]
  },
  {
   "cell_type": "code",
   "execution_count": null,
   "metadata": {},
   "outputs": [],
   "source": [
    "breast_cancer = load_breast_cancer()\n",
    "X = breast_cancer.data\n",
    "y = breast_cancer.target"
   ]
  },
  {
   "cell_type": "markdown",
   "metadata": {},
   "source": [
    "### Specify Estimator Combinations and Parameters for Hyperparameter Search"
   ]
  },
  {
   "cell_type": "code",
   "execution_count": null,
   "metadata": {},
   "outputs": [],
   "source": [
    "model_dict = {\n",
    "    \"scaler\": {\"StandardScaler\": StandardScaler(), \"MinMaxScaler\": MinMaxScaler()},\n",
    "    \"reduce_dim\": {\"SelectKBest\": SelectKBest(), \"RFE\": RFE(SVC(kernel=\"linear\", C=1))},\n",
    "    \"clf\": {\n",
    "        \"KNeighborsClassifier\": KNeighborsClassifier(),\n",
    "        \"DecisionTreeClassifier\": DecisionTreeClassifier(),\n",
    "        # \"SVC\": SVC(),\n",
    "        # \"AdaBoostClassifier\": AdaBoostClassifier(),\n",
    "    },\n",
    "}"
   ]
  },
  {
   "cell_type": "code",
   "execution_count": null,
   "metadata": {},
   "outputs": [],
   "source": [
    "params_dict = {\n",
    "    \"StandardScaler\": None,\n",
    "    \"MinMaxScaler\": None,\n",
    "    \"SelectKBest\": {\"k\": [2, 4, \"all\"]},\n",
    "    \"RFE\": {\"n_features_to_select\": [2, 4, None]},\n",
    "    \"KNeighborsClassifier\": {\"n_neighbors\": [2, 4], \"weights\": [\"uniform\", \"distance\"]},\n",
    "    \"DecisionTreeClassifier\": {\"criterion\": [\"gini\", \"entropy\"], \"max_depth\": [2, 4]},\n",
    "    # \"SVC\": [\n",
    "    #    {\n",
    "    #        \"kernel\": [\"linear\"],\n",
    "    #        \"C\": np.logspace(start=-2, stop=2, num=5)\n",
    "    #    },\n",
    "    #    {\n",
    "    #        \"kernel\": [\"rbf\"],\n",
    "    #        \"C\": np.logspace(start=-2, stop=2, num=5),\n",
    "    #        \"gamma\": np.logspace(start=-2, stop=2, num=5)\n",
    "    #    }\n",
    "    # ],\n",
    "    # \"AdaBoostClassifier\": {\n",
    "    #    \"base_estimator\": [DecisionTreeClassifier(max_depth=1)],\n",
    "    #    \"n_estimators\": np.arange(20, 110, 10),\n",
    "    #    \"learning_rate\": np.arange(0.6, 1.1, 0.1)\n",
    "    # },\n",
    "}\n",
    "\n",
    "\n",
    "# use randomized-search for decision tree classifier, use grid-search (the default) for all other estimators\n",
    "hyper_search_dict = {\"DecisionTreeClassifier\": {\"search_method\": \"random\", \"n_iter\": 2}}"
   ]
  },
  {
   "cell_type": "markdown",
   "metadata": {},
   "source": [
    "### Setup PipelinePermuter and Cross-Validations for Model Evaluation"
   ]
  },
  {
   "cell_type": "markdown",
   "metadata": {},
   "source": [
    "Note: For further information please visit the documentation of [SklearnPipelinePermuter](https://biopsykit.readthedocs.io/en/latest/api/biopsykit.classification.model_selection.sklearn_pipeline_permuter.html#biopsykit.classification.model_selection.sklearn_pipeline_permuter.SklearnPipelinePermuter)."
   ]
  },
  {
   "cell_type": "code",
   "execution_count": null,
   "metadata": {},
   "outputs": [],
   "source": [
    "pipeline_permuter = SklearnPipelinePermuter(model_dict, params_dict, hyper_search_dict=hyper_search_dict, random_state=42)"
   ]
  },
  {
   "cell_type": "code",
   "execution_count": null,
   "metadata": {},
   "outputs": [],
   "source": [
    "outer_cv = KFold(5)\n",
    "inner_cv = KFold(5)\n",
    "\n",
    "pipeline_permuter.fit(X, y, outer_cv=outer_cv, inner_cv=inner_cv)"
   ]
  },
  {
   "cell_type": "markdown",
   "metadata": {},
   "source": [
    "### Display Results"
   ]
  },
  {
   "cell_type": "markdown",
   "metadata": {},
   "source": [
    "#### Mean Performance Scores"
   ]
  },
  {
   "cell_type": "markdown",
   "metadata": {},
   "source": [
    "The performance scores for each pipeline and parameter combinations, respectively, averaged over all outer CV folds using [mean_pipeline_score_results()](https://biopsykit.readthedocs.io/en/latest/api/biopsykit.classification.model_selection.sklearn_pipeline_permuter.html#biopsykit.classification.model_selection.sklearn_pipeline_permuter.SklearnPipelinePermuter.mean_pipeline_score_results)."
   ]
  },
  {
   "cell_type": "code",
   "execution_count": null,
   "metadata": {},
   "outputs": [],
   "source": [
    "pipeline_permuter.mean_pipeline_score_results()"
   ]
  },
  {
   "cell_type": "markdown",
   "metadata": {},
   "source": [
    "#### Best Pipeline"
   ]
  },
  {
   "cell_type": "markdown",
   "metadata": {},
   "source": [
    "The pipeline with the hyperparameter combination which achieved the highest average test score over all outer CV folds (i.e., the parameter combination which represents the first row of [mean_pipeline_score_results()](https://biopsykit.readthedocs.io/en/latest/api/biopsykit.classification.model_selection.sklearn_pipeline_permuter.html#biopsykit.classification.model_selection.sklearn_pipeline_permuter.SklearnPipelinePermuter.mean_pipeline_score_results))."
   ]
  },
  {
   "cell_type": "code",
   "execution_count": null,
   "metadata": {},
   "outputs": [],
   "source": [
    "pipeline_permuter.best_pipeline()"
   ]
  },
  {
   "cell_type": "markdown",
   "metadata": {},
   "source": [
    "#### Metric Summary"
   ]
  },
  {
   "cell_type": "markdown",
   "metadata": {},
   "source": [
    "The summary of all relevant metrics (performance scores, confusion matrix, true and predicted labels) of the **best pipelines** for each fold (i.e., the [best_pipeline()](https://biopsykit.readthedocs.io/en/latest/api/biopsykit.classification.model_selection.sklearn_pipeline_permuter.html#biopsykit.classification.model_selection.sklearn_pipeline_permuter.SklearnPipelinePermuter.best_pipeline) parameter of each inner `cv` object), evaluated for each evaluated pipeline combination."
   ]
  },
  {
   "cell_type": "code",
   "execution_count": null,
   "metadata": {},
   "outputs": [],
   "source": [
    "pipeline_permuter.metric_summary()"
   ]
  },
  {
   "cell_type": "markdown",
   "metadata": {
    "pycharm": {
     "name": "#%% md\n"
    }
   },
   "source": [
    "List of `Pipeline` objects for the **best pipeline** for each evaluated pipeline combination."
   ]
  },
  {
   "cell_type": "code",
   "execution_count": null,
   "metadata": {
    "pycharm": {
     "name": "#%%\n"
    }
   },
   "outputs": [],
   "source": [
    "pipeline_permuter.best_estimator_summary()"
   ]
  },
  {
   "cell_type": "markdown",
   "metadata": {},
   "source": [
    "## Regression"
   ]
  },
  {
   "cell_type": "markdown",
   "metadata": {},
   "source": [
    "### Load Example Dataset"
   ]
  },
  {
   "cell_type": "code",
   "execution_count": null,
   "metadata": {},
   "outputs": [],
   "source": [
    "diabetes_data = load_diabetes()\n",
    "X = diabetes_data.data\n",
    "y = diabetes_data.target"
   ]
  },
  {
   "cell_type": "markdown",
   "metadata": {},
   "source": [
    "### Specify Estimator Combinations and Parameters for Hyperparameter Search"
   ]
  },
  {
   "cell_type": "code",
   "execution_count": null,
   "metadata": {},
   "outputs": [],
   "source": [
    "model_dict = {\n",
    "    \"scaler\": {\"StandardScaler\": StandardScaler(), \"MinMaxScaler\": MinMaxScaler()},\n",
    "    \"reduce_dim\": {\"SelectKBest\": SelectKBest(), \"RFE\": RFE(SVR(kernel=\"linear\", C=1))},\n",
    "    \"clf\": {\n",
    "        \"KNeighborsRegressor\": KNeighborsRegressor(),\n",
    "        \"DecisionTreeRegressor\": DecisionTreeRegressor(),\n",
    "        # \"SVR\": SVR(),\n",
    "        # \"AdaBoostRegressor\": AdaBoostRegressor(),\n",
    "    },\n",
    "}"
   ]
  },
  {
   "cell_type": "code",
   "execution_count": null,
   "metadata": {},
   "outputs": [],
   "source": [
    "params_dict = {\n",
    "    \"StandardScaler\": None,\n",
    "    \"MinMaxScaler\": None,\n",
    "    \"SelectKBest\": {\"k\": [2, 4, \"all\"]},\n",
    "    \"RFE\": {\"n_features_to_select\": [2, 4]},\n",
    "    \"KNeighborsRegressor\": {\"n_neighbors\": [2, 4], \"weights\": [\"uniform\", \"distance\"]},\n",
    "    \"DecisionTreeRegressor\": {\"max_depth\": [2, 4]},\n",
    "    # \"SVR\": [\n",
    "    #    {\n",
    "    #        \"kernel\": [\"linear\"],\n",
    "    #        \"C\": np.logspace(start=-2, stop=2, num=5)\n",
    "    #    },\n",
    "    #    {\n",
    "    #        \"kernel\": [\"rbf\"],\n",
    "    #        \"C\": np.logspace(start=-2, stop=2, num=5),\n",
    "    #        \"gamma\": np.logspace(start=-2, stop=2, num=5)\n",
    "    #    }\n",
    "    # ],\n",
    "    # \"AdaBoostRegressor\": {\n",
    "    #    \"base_estimator\": [DecisionTreeClassifier(max_depth=1)],\n",
    "    #    \"n_estimators\": np.arange(20, 110, 10),\n",
    "    #    \"learning_rate\": np.arange(0.6, 1.1, 0.1)\n",
    "    # },\n",
    "}\n",
    "\n",
    "\n",
    "# use randomized-search for decision tree classifier, use grid-search (the default) for all other estimators\n",
    "hyper_search_dict = {\"DecisionTreeRegressor\": {\"search_method\": \"random\", \"n_iter\": 2}}"
   ]
  },
  {
   "cell_type": "markdown",
   "metadata": {},
   "source": [
    "### Setup PipelinePermuter and Cross-Validations for Model Evaluation"
   ]
  },
  {
   "cell_type": "markdown",
   "metadata": {},
   "source": [
    "Note: For further information please visit the documentatin of [SklearnPipelinePermuter](https://biopsykit.readthedocs.io/en/latest/api/biopsykit.classification.model_selection.sklearn_pipeline_permuter.html#biopsykit.classification.model_selection.sklearn_pipeline_permuter.SklearnPipelinePermuter)."
   ]
  },
  {
   "cell_type": "code",
   "execution_count": null,
   "metadata": {},
   "outputs": [],
   "source": [
    "pipeline_permuter = SklearnPipelinePermuter(model_dict, params_dict, hyper_search_dict=hyper_search_dict)"
   ]
  },
  {
   "cell_type": "code",
   "execution_count": null,
   "metadata": {},
   "outputs": [],
   "source": [
    "outer_cv = KFold(5)\n",
    "inner_cv = KFold(5)\n",
    "\n",
    "pipeline_permuter.fit(X, y, outer_cv=outer_cv, inner_cv=inner_cv, scoring=\"r2\")"
   ]
  },
  {
   "cell_type": "markdown",
   "metadata": {},
   "source": [
    "### Display Results"
   ]
  },
  {
   "cell_type": "markdown",
   "metadata": {},
   "source": [
    "#### Mean Performance Scores"
   ]
  },
  {
   "cell_type": "markdown",
   "metadata": {},
   "source": [
    "The performance scores for each pipeline and parameter combinations, respectively, averaged over all outer CV folds using [mean_pipeline_score_results()](https://biopsykit.readthedocs.io/en/latest/api/biopsykit.classification.model_selection.sklearn_pipeline_permuter.html#biopsykit.classification.model_selection.sklearn_pipeline_permuter.SklearnPipelinePermuter.mean_pipeline_score_results)."
   ]
  },
  {
   "cell_type": "code",
   "execution_count": null,
   "metadata": {},
   "outputs": [],
   "source": [
    "pipeline_permuter.mean_pipeline_score_results()"
   ]
  },
  {
   "cell_type": "markdown",
   "metadata": {},
   "source": [
    "#### Best Pipeline"
   ]
  },
  {
   "cell_type": "markdown",
   "metadata": {},
   "source": [
    "The pipeline with the hyperparameter combination which achieved the highest average test score over all outer CV folds (i.e., the parameter combination which represents the first row of [mean_pipeline_score_results()](https://biopsykit.readthedocs.io/en/latest/api/biopsykit.classification.model_selection.sklearn_pipeline_permuter.html#biopsykit.classification.model_selection.sklearn_pipeline_permuter.SklearnPipelinePermuter.mean_pipeline_score_results))."
   ]
  },
  {
   "cell_type": "code",
   "execution_count": null,
   "metadata": {},
   "outputs": [],
   "source": [
    "pipeline_permuter.best_pipeline()"
   ]
  },
  {
   "cell_type": "markdown",
   "metadata": {},
   "source": [
    "#### Metric Summary"
   ]
  },
  {
   "cell_type": "markdown",
   "metadata": {},
   "source": [
    "The summary of all relevant metrics (performance scores, confusion matrix, true and predicted labels) of the **best pipelines** for each fold (i.e., the [best_pipeline()](https://biopsykit.readthedocs.io/en/latest/api/biopsykit.classification.model_selection.sklearn_pipeline_permuter.html#biopsykit.classification.model_selection.sklearn_pipeline_permuter.SklearnPipelinePermuter.best_pipeline) parameter of each inner `cv` object), evaluated for each evaluated pipeline combination."
   ]
  },
  {
   "cell_type": "code",
   "execution_count": null,
   "metadata": {},
   "outputs": [],
   "source": [
    "pipeline_permuter.metric_summary()"
   ]
  },
  {
   "cell_type": "markdown",
   "metadata": {
    "pycharm": {
     "name": "#%% md\n"
    }
   },
   "source": [
    "List of `Pipeline` objects for the **best pipeline** for each evaluated pipeline combination."
   ]
  },
  {
   "cell_type": "code",
   "execution_count": null,
   "metadata": {
    "pycharm": {
     "name": "#%%\n"
    }
   },
   "outputs": [],
   "source": [
    "pipeline_permuter.best_estimator_summary()"
   ]
  },
  {
   "cell_type": "code",
   "execution_count": null,
   "metadata": {},
   "outputs": [],
   "source": []
  }
 ],
 "metadata": {
  "kernelspec": {
   "display_name": "biopsykit",
   "language": "python",
   "name": "biopsykit"
  },
  "language_info": {
   "codemirror_mode": {
    "name": "ipython",
    "version": 3
   },
   "file_extension": ".py",
   "mimetype": "text/x-python",
   "name": "python",
   "nbconvert_exporter": "python",
   "pygments_lexer": "ipython3",
   "version": "3.9.13"
  }
 },
 "nbformat": 4,
 "nbformat_minor": 4
}
